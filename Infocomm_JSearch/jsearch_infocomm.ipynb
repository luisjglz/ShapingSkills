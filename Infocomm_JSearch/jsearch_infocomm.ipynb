{
 "cells": [
  {
   "cell_type": "code",
   "execution_count": 12,
   "metadata": {},
   "outputs": [],
   "source": [
    "import http.client\n",
    "import pandas as pd\n",
    "import json\n",
    "from urllib.parse import quote\n",
    "import os"
   ]
  },
  {
   "cell_type": "code",
   "execution_count": 79,
   "metadata": {},
   "outputs": [],
   "source": [
    "occupations_list = [\n",
    "    'ICT%20sales%20professional',\n",
    "    'Marketing%20manager',\n",
    "    'Product%20analyst',\n",
    "    'Product%20manager',\n",
    "    'Product%20designer',\n",
    "    'Business%20Intelligence%20professional',\n",
    "    'Infrastructure%20engineer',\n",
    "    'Computer%20Systems%20Analyst',\n",
    "    'Software%20infrastructure%20architect',\n",
    "    'Web%20developer',\n",
    "    'Software%20developer',\n",
    "    'App%20developer',\n",
    "    'User%20interface%20designer',\n",
    "    'Software%20engineer',\n",
    "    'Software%20architect',\n",
    "    'Software%20Quality%20Assurance%20Analysts%20and%20Testers',\n",
    "    'Embedded%20systems%20engineer',\n",
    "    'Web%20and%20Digital%20Interface%20Designers',\n",
    "    'Database%20infrastructure%20engineer',\n",
    "    'Network%20architect',\n",
    "    'Database%20Administrators',\n",
    "    'Database%20Architects',\n",
    "    'Network%20and%20Computer%20Systems%20Administrator',\n",
    "    'Artificial%20intelligence',\n",
    "    'Machine%20Learning%20engineer',\n",
    "    'Data%20science%20engineer',\n",
    "    'Data%20analyst',\n",
    "    'Data%20scientist',\n",
    "    'Artificial%20Intelligence%20scientist',\n",
    "    'Data%20architect',\n",
    "    'ICT%20security%20specialist',\n",
    "    'IT%20security%20operations',\n",
    "    'Information%20Security%20Analysts',\n",
    "    'Product%20Security%20and%20IT%20Security%20Integration%20Specialist',\n",
    "    'Product%20risk%20specialist',\n",
    "    'ICT%20security%20specialist',\n",
    "    'Security%20architect',\n",
    "    'Database%20support%20engineer',\n",
    "    'Data%20center%20operations%20engineer',\n",
    "    'Support%20systems%20engineer',\n",
    "    'Computer%20Network%20Support%20Specialists'\n",
    "    ]\n"
   ]
  },
  {
   "cell_type": "code",
   "execution_count": 5,
   "metadata": {},
   "outputs": [],
   "source": [
    "#RAPIDAPI API KEY\n",
    "import os\n",
    "os.environ[\"RAPIDAPI_API_KEY\"] = \"use-your-rapidapi-api-key\""
   ]
  },
  {
   "cell_type": "code",
   "execution_count": 67,
   "metadata": {},
   "outputs": [],
   "source": [
    "import json\n",
    "\n",
    "def fetch_data_from_api(api_key, _query, _page, _num_pages):\n",
    "    conn = http.client.HTTPSConnection(\"jsearch.p.rapidapi.com\")\n",
    "    headers = {\n",
    "        'X-RapidAPI-Key': api_key,\n",
    "        'X-RapidAPI-Host': \"jsearch.p.rapidapi.com\"\n",
    "    }\n",
    "    conn.request(\"GET\", \"/search?query=\"+str(_query)+\"in%20Mexico&page=\"+str(_page)+\"&num_pages=\"+str(_num_pages), headers=headers)\n",
    "    res = conn.getresponse()\n",
    "    data = res.read()\n",
    "    # Parse the JSON string into a Python dictionary\n",
    "    data_dict = json.loads(data.decode(\"utf-8\"))\n",
    "\n",
    "    # Convert the 'data' section of the dictionary into a DataFrame\n",
    "    #df = pd.DataFrame(data_dict['data'])\n",
    "    if 'data' in data_dict:\n",
    "        df = pd.DataFrame(data_dict['data'])\n",
    "    else:\n",
    "        df = pd.DataFrame()  # Create an empty DataFrame\n",
    "    return df"
   ]
  },
  {
   "cell_type": "code",
   "execution_count": 81,
   "metadata": {},
   "outputs": [],
   "source": [
    "for occ in occupations_list:\n",
    "    dataframes = []\n",
    "    combined_df = pd.DataFrame()\n",
    "    for i in range(1,6):\n",
    "        res = fetch_data_from_api(os.environ[\"RAPIDAPI_API_KEY\"], occ, i, 20 )\n",
    "        combined_df = pd.concat([combined_df, res])\n",
    "    combined_df.drop_duplicates(subset=\"job_id\", inplace=True)\n",
    "    combined_df.to_csv(f'{occ}.csv', index=False)\n",
    "\n"
   ]
  }
 ],
 "metadata": {
  "kernelspec": {
   "display_name": "nlp310",
   "language": "python",
   "name": "python3"
  },
  "language_info": {
   "codemirror_mode": {
    "name": "ipython",
    "version": 3
   },
   "file_extension": ".py",
   "mimetype": "text/x-python",
   "name": "python",
   "nbconvert_exporter": "python",
   "pygments_lexer": "ipython3",
   "version": "3.10.13"
  }
 },
 "nbformat": 4,
 "nbformat_minor": 2
}

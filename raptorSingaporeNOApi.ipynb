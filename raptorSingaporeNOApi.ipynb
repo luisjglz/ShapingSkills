{
 "cells": [
  {
   "cell_type": "code",
   "execution_count": 4,
   "metadata": {},
   "outputs": [
    {
     "name": "stdout",
     "output_type": "stream",
     "text": [
      "1\n",
      "The Associ\n",
      "{'source': 'singapore_infocomm.txt'}\n"
     ]
    },
    {
     "data": {
      "text/plain": [
       "<function matplotlib.pyplot.show(close=None, block=None)>"
      ]
     },
     "execution_count": 4,
     "metadata": {},
     "output_type": "execute_result"
    },
    {
     "data": {
      "image/png": "[encoded data removed]",
      "text/plain": [
       "<Figure size 1000x600 with 1 Axes>"
      ]
     },
     "metadata": {},
     "output_type": "display_data"
    }
   ],
   "source": [
    "import matplotlib.pyplot as plt\n",
    "import tiktoken\n",
    "from bs4 import BeautifulSoup as Soup\n",
    "from langchain_community.document_loaders.recursive_url_loader import RecursiveUrlLoader\n",
    "\n",
    "\n",
    "def num_tokens_from_string(string: str, encoding_name: str) -> int:\n",
    "    \"\"\"Returns the number of tokens in a text string.\"\"\"\n",
    "    encoding = tiktoken.get_encoding(encoding_name)\n",
    "    num_tokens = len(encoding.encode(string))\n",
    "    return num_tokens\n",
    "\n",
    "\n",
    "# Singapore docs\n",
    "from langchain.document_loaders import TextLoader\n",
    "loader = TextLoader(\"singapore_infocomm.txt\")\n",
    "\n",
    "#Load the document by calling loader.load()\n",
    "docs = loader.load()\n",
    "\n",
    "print(len(docs))\n",
    "print(docs[0].page_content[0:10])\n",
    "\n",
    "print(docs[0].metadata)\n",
    "\n",
    "\n",
    "\n",
    "\n",
    "docs_texts = [d.page_content for d in docs]\n",
    "\n",
    "# Calculate the number of tokens for each document\n",
    "counts = [num_tokens_from_string(d, \"cl100k_base\") for d in docs_texts]\n",
    "\n",
    "# Plotting the histogram of token counts\n",
    "plt.figure(figsize=(10, 6))\n",
    "plt.hist(counts, bins=30, color=\"blue\", edgecolor=\"black\", alpha=0.7)\n",
    "plt.title(\"Histogram of Token Counts\")\n",
    "plt.xlabel(\"Token Count\")\n",
    "plt.ylabel(\"Frequency\")\n",
    "plt.grid(axis=\"y\", alpha=0.75)\n",
    "\n",
    "# Display the histogram\n",
    "plt.show"
   ]
  },
  {
   "cell_type": "code",
   "execution_count": 5,
   "metadata": {},
   "outputs": [
    {
     "name": "stdout",
     "output_type": "stream",
     "text": [
      "Num tokens in all context: 25989\n"
     ]
    }
   ],
   "source": [
    "# Doc texts concat\n",
    "d_sorted = sorted(docs, key=lambda x: x.metadata[\"source\"])\n",
    "d_reversed = list(reversed(d_sorted))\n",
    "concatenated_content = \"\\n\\n\\n --- \\n\\n\\n\".join(\n",
    "    [doc.page_content for doc in d_reversed]\n",
    ")\n",
    "print(\n",
    "    \"Num tokens in all context: %s\"\n",
    "    % num_tokens_from_string(concatenated_content, \"cl100k_base\")\n",
    ")"
   ]
  },
  {
   "cell_type": "code",
   "execution_count": 6,
   "metadata": {},
   "outputs": [],
   "source": [
    "# Doc texts split\n",
    "from langchain_text_splitters import RecursiveCharacterTextSplitter\n",
    "\n",
    "chunk_size_tok = 2000\n",
    "text_splitter = RecursiveCharacterTextSplitter.from_tiktoken_encoder(\n",
    "    chunk_size=chunk_size_tok, chunk_overlap=0\n",
    ")\n",
    "texts_split = text_splitter.split_text(concatenated_content)"
   ]
  },
  {
   "cell_type": "code",
   "execution_count": 8,
   "metadata": {},
   "outputs": [],
   "source": [
    "from langchain_openai import OpenAIEmbeddings\n",
    "\n",
    "embd = OpenAIEmbeddings()\n",
    "\n",
    "from langchain_openai import ChatOpenAI\n",
    "\n",
    "model = ChatOpenAI(temperature=0, model=\"gpt-4-1106-preview\")\n",
    "\n",
    "# from langchain_anthropic import ChatAnthropic\n",
    "\n",
    "# model = ChatAnthropic(temperature=0, model=\"claude-3-opus-20240229\")"
   ]
  },
  {
   "cell_type": "code",
   "execution_count": 9,
   "metadata": {},
   "outputs": [
    {
     "name": "stderr",
     "output_type": "stream",
     "text": [
      "/Users/bruxo/miniconda3/envs/nlp380/lib/python3.8/site-packages/tqdm/auto.py:21: TqdmWarning: IProgress not found. Please update jupyter and ipywidgets. See https://ipywidgets.readthedocs.io/en/stable/user_install.html\n",
      "  from .autonotebook import tqdm as notebook_tqdm\n"
     ]
    }
   ],
   "source": [
    "from typing import Dict, List, Optional, Tuple\n",
    "\n",
    "import numpy as np\n",
    "import pandas as pd\n",
    "import umap.umap_ as umap\n",
    "from langchain.prompts import ChatPromptTemplate\n",
    "from langchain_core.output_parsers import StrOutputParser\n",
    "from sklearn.mixture import GaussianMixture\n",
    "\n",
    "RANDOM_SEED = 224  # Fixed seed for reproducibility\n",
    "\n",
    "### --- Code from citations referenced above (added comments and docstrings) --- ###\n",
    "\n",
    "\n",
    "def global_cluster_embeddings(\n",
    "    embeddings: np.ndarray,\n",
    "    dim: int,\n",
    "    n_neighbors: Optional[int] = None,\n",
    "    metric: str = \"cosine\",\n",
    ") -> np.ndarray:\n",
    "    \"\"\"\n",
    "    Perform global dimensionality reduction on the embeddings using UMAP.\n",
    "\n",
    "    Parameters:\n",
    "    - embeddings: The input embeddings as a numpy array.\n",
    "    - dim: The target dimensionality for the reduced space.\n",
    "    - n_neighbors: Optional; the number of neighbors to consider for each point.\n",
    "                   If not provided, it defaults to the square root of the number of embeddings.\n",
    "    - metric: The distance metric to use for UMAP.\n",
    "\n",
    "    Returns:\n",
    "    - A numpy array of the embeddings reduced to the specified dimensionality.\n",
    "    \"\"\"\n",
    "    if n_neighbors is None:\n",
    "        n_neighbors = int((len(embeddings) - 1) ** 0.5)\n",
    "    return umap.UMAP(\n",
    "        n_neighbors=n_neighbors, n_components=dim, metric=metric\n",
    "    ).fit_transform(embeddings)\n",
    "\n",
    "\n",
    "def local_cluster_embeddings(\n",
    "    embeddings: np.ndarray, dim: int, num_neighbors: int = 10, metric: str = \"cosine\"\n",
    ") -> np.ndarray:\n",
    "    \"\"\"\n",
    "    Perform local dimensionality reduction on the embeddings using UMAP, typically after global clustering.\n",
    "\n",
    "    Parameters:\n",
    "    - embeddings: The input embeddings as a numpy array.\n",
    "    - dim: The target dimensionality for the reduced space.\n",
    "    - num_neighbors: The number of neighbors to consider for each point.\n",
    "    - metric: The distance metric to use for UMAP.\n",
    "\n",
    "    Returns:\n",
    "    - A numpy array of the embeddings reduced to the specified dimensionality.\n",
    "    \"\"\"\n",
    "    return umap.UMAP(\n",
    "        n_neighbors=num_neighbors, n_components=dim, metric=metric\n",
    "    ).fit_transform(embeddings)\n",
    "\n",
    "\n",
    "def get_optimal_clusters(\n",
    "    embeddings: np.ndarray, max_clusters: int = 50, random_state: int = RANDOM_SEED\n",
    ") -> int:\n",
    "    \"\"\"\n",
    "    Determine the optimal number of clusters using the Bayesian Information Criterion (BIC) with a Gaussian Mixture Model.\n",
    "\n",
    "    Parameters:\n",
    "    - embeddings: The input embeddings as a numpy array.\n",
    "    - max_clusters: The maximum number of clusters to consider.\n",
    "    - random_state: Seed for reproducibility.\n",
    "\n",
    "    Returns:\n",
    "    - An integer representing the optimal number of clusters found.\n",
    "    \"\"\"\n",
    "    max_clusters = min(max_clusters, len(embeddings))\n",
    "    n_clusters = np.arange(1, max_clusters)\n",
    "    bics = []\n",
    "    for n in n_clusters:\n",
    "        gm = GaussianMixture(n_components=n, random_state=random_state)\n",
    "        gm.fit(embeddings)\n",
    "        bics.append(gm.bic(embeddings))\n",
    "    return n_clusters[np.argmin(bics)]\n",
    "\n",
    "\n",
    "def GMM_cluster(embeddings: np.ndarray, threshold: float, random_state: int = 0):\n",
    "    \"\"\"\n",
    "    Cluster embeddings using a Gaussian Mixture Model (GMM) based on a probability threshold.\n",
    "\n",
    "    Parameters:\n",
    "    - embeddings: The input embeddings as a numpy array.\n",
    "    - threshold: The probability threshold for assigning an embedding to a cluster.\n",
    "    - random_state: Seed for reproducibility.\n",
    "\n",
    "    Returns:\n",
    "    - A tuple containing the cluster labels and the number of clusters determined.\n",
    "    \"\"\"\n",
    "    n_clusters = get_optimal_clusters(embeddings)\n",
    "    gm = GaussianMixture(n_components=n_clusters, random_state=random_state)\n",
    "    gm.fit(embeddings)\n",
    "    probs = gm.predict_proba(embeddings)\n",
    "    labels = [np.where(prob > threshold)[0] for prob in probs]\n",
    "    return labels, n_clusters\n",
    "\n",
    "\n",
    "def perform_clustering(\n",
    "    embeddings: np.ndarray,\n",
    "    dim: int,\n",
    "    threshold: float,\n",
    ") -> List[np.ndarray]:\n",
    "    \"\"\"\n",
    "    Perform clustering on the embeddings by first reducing their dimensionality globally, then clustering\n",
    "    using a Gaussian Mixture Model, and finally performing local clustering within each global cluster.\n",
    "\n",
    "    Parameters:\n",
    "    - embeddings: The input embeddings as a numpy array.\n",
    "    - dim: The target dimensionality for UMAP reduction.\n",
    "    - threshold: The probability threshold for assigning an embedding to a cluster in GMM.\n",
    "\n",
    "    Returns:\n",
    "    - A list of numpy arrays, where each array contains the cluster IDs for each embedding.\n",
    "    \"\"\"\n",
    "    if len(embeddings) <= dim + 1:\n",
    "        # Avoid clustering when there's insufficient data\n",
    "        return [np.array([0]) for _ in range(len(embeddings))]\n",
    "\n",
    "    # Global dimensionality reduction\n",
    "    reduced_embeddings_global = global_cluster_embeddings(embeddings, dim)\n",
    "    # Global clustering\n",
    "    global_clusters, n_global_clusters = GMM_cluster(\n",
    "        reduced_embeddings_global, threshold\n",
    "    )\n",
    "\n",
    "    all_local_clusters = [np.array([]) for _ in range(len(embeddings))]\n",
    "    total_clusters = 0\n",
    "\n",
    "    # Iterate through each global cluster to perform local clustering\n",
    "    for i in range(n_global_clusters):\n",
    "        # Extract embeddings belonging to the current global cluster\n",
    "        global_cluster_embeddings_ = embeddings[\n",
    "            np.array([i in gc for gc in global_clusters])\n",
    "        ]\n",
    "\n",
    "        if len(global_cluster_embeddings_) == 0:\n",
    "            continue\n",
    "        if len(global_cluster_embeddings_) <= dim + 1:\n",
    "            # Handle small clusters with direct assignment\n",
    "            local_clusters = [np.array([0]) for _ in global_cluster_embeddings_]\n",
    "            n_local_clusters = 1\n",
    "        else:\n",
    "            # Local dimensionality reduction and clustering\n",
    "            reduced_embeddings_local = local_cluster_embeddings(\n",
    "                global_cluster_embeddings_, dim\n",
    "            )\n",
    "            local_clusters, n_local_clusters = GMM_cluster(\n",
    "                reduced_embeddings_local, threshold\n",
    "            )\n",
    "\n",
    "        # Assign local cluster IDs, adjusting for total clusters already processed\n",
    "        for j in range(n_local_clusters):\n",
    "            local_cluster_embeddings_ = global_cluster_embeddings_[\n",
    "                np.array([j in lc for lc in local_clusters])\n",
    "            ]\n",
    "            indices = np.where(\n",
    "                (embeddings == local_cluster_embeddings_[:, None]).all(-1)\n",
    "            )[1]\n",
    "            for idx in indices:\n",
    "                all_local_clusters[idx] = np.append(\n",
    "                    all_local_clusters[idx], j + total_clusters\n",
    "                )\n",
    "\n",
    "        total_clusters += n_local_clusters\n",
    "\n",
    "    return all_local_clusters\n",
    "\n",
    "\n",
    "### --- Our code below --- ###\n",
    "\n",
    "\n",
    "def embed(texts):\n",
    "    \"\"\"\n",
    "    Generate embeddings for a list of text documents.\n",
    "\n",
    "    This function assumes the existence of an `embd` object with a method `embed_documents`\n",
    "    that takes a list of texts and returns their embeddings.\n",
    "\n",
    "    Parameters:\n",
    "    - texts: List[str], a list of text documents to be embedded.\n",
    "\n",
    "    Returns:\n",
    "    - numpy.ndarray: An array of embeddings for the given text documents.\n",
    "    \"\"\"\n",
    "    text_embeddings = embd.embed_documents(texts)\n",
    "    text_embeddings_np = np.array(text_embeddings)\n",
    "    return text_embeddings_np\n",
    "\n",
    "\n",
    "def embed_cluster_texts(texts):\n",
    "    \"\"\"\n",
    "    Embeds a list of texts and clusters them, returning a DataFrame with texts, their embeddings, and cluster labels.\n",
    "\n",
    "    This function combines embedding generation and clustering into a single step. It assumes the existence\n",
    "    of a previously defined `perform_clustering` function that performs clustering on the embeddings.\n",
    "\n",
    "    Parameters:\n",
    "    - texts: List[str], a list of text documents to be processed.\n",
    "\n",
    "    Returns:\n",
    "    - pandas.DataFrame: A DataFrame containing the original texts, their embeddings, and the assigned cluster labels.\n",
    "    \"\"\"\n",
    "    text_embeddings_np = embed(texts)  # Generate embeddings\n",
    "    cluster_labels = perform_clustering(\n",
    "        text_embeddings_np, 10, 0.1\n",
    "    )  # Perform clustering on the embeddings\n",
    "    df = pd.DataFrame()  # Initialize a DataFrame to store the results\n",
    "    df[\"text\"] = texts  # Store original texts\n",
    "    df[\"embd\"] = list(text_embeddings_np)  # Store embeddings as a list in the DataFrame\n",
    "    df[\"cluster\"] = cluster_labels  # Store cluster labels\n",
    "    return df\n",
    "\n",
    "\n",
    "def fmt_txt(df: pd.DataFrame) -> str:\n",
    "    \"\"\"\n",
    "    Formats the text documents in a DataFrame into a single string.\n",
    "\n",
    "    Parameters:\n",
    "    - df: DataFrame containing the 'text' column with text documents to format.\n",
    "\n",
    "    Returns:\n",
    "    - A single string where all text documents are joined by a specific delimiter.\n",
    "    \"\"\"\n",
    "    unique_txt = df[\"text\"].tolist()\n",
    "    return \"--- --- \\n --- --- \".join(unique_txt)\n",
    "\n",
    "\n",
    "def embed_cluster_summarize_texts(\n",
    "    texts: List[str], level: int\n",
    ") -> Tuple[pd.DataFrame, pd.DataFrame]:\n",
    "    \"\"\"\n",
    "    Embeds, clusters, and summarizes a list of texts. This function first generates embeddings for the texts,\n",
    "    clusters them based on similarity, expands the cluster assignments for easier processing, and then summarizes\n",
    "    the content within each cluster.\n",
    "\n",
    "    Parameters:\n",
    "    - texts: A list of text documents to be processed.\n",
    "    - level: An integer parameter that could define the depth or detail of processing.\n",
    "\n",
    "    Returns:\n",
    "    - Tuple containing two DataFrames:\n",
    "      1. The first DataFrame (`df_clusters`) includes the original texts, their embeddings, and cluster assignments.\n",
    "      2. The second DataFrame (`df_summary`) contains summaries for each cluster, the specified level of detail,\n",
    "         and the cluster identifiers.\n",
    "    \"\"\"\n",
    "\n",
    "    # Embed and cluster the texts, resulting in a DataFrame with 'text', 'embd', and 'cluster' columns\n",
    "    df_clusters = embed_cluster_texts(texts)\n",
    "\n",
    "    # Prepare to expand the DataFrame for easier manipulation of clusters\n",
    "    expanded_list = []\n",
    "\n",
    "    # Expand DataFrame entries to document-cluster pairings for straightforward processing\n",
    "    for index, row in df_clusters.iterrows():\n",
    "        for cluster in row[\"cluster\"]:\n",
    "            expanded_list.append(\n",
    "                {\"text\": row[\"text\"], \"embd\": row[\"embd\"], \"cluster\": cluster}\n",
    "            )\n",
    "\n",
    "    # Create a new DataFrame from the expanded list\n",
    "    expanded_df = pd.DataFrame(expanded_list)\n",
    "\n",
    "    # Retrieve unique cluster identifiers for processing\n",
    "    all_clusters = expanded_df[\"cluster\"].unique()\n",
    "\n",
    "    print(f\"--Generated {len(all_clusters)} clusters--\")\n",
    "\n",
    "    # Summarization\n",
    "    template = \"\"\"Here is a list of occupations and their related skills and knowledge.\n",
    "    \n",
    "    The list includes occupations from different sectors and subsectors.\n",
    "    \n",
    "    Give a detailed summary of the list provided.\n",
    "    \n",
    "    Jobs:\n",
    "    {context}\n",
    "    \"\"\"\n",
    "    prompt = ChatPromptTemplate.from_template(template)\n",
    "    chain = prompt | model | StrOutputParser()\n",
    "\n",
    "    # Format text within each cluster for summarization\n",
    "    summaries = []\n",
    "    for i in all_clusters:\n",
    "        df_cluster = expanded_df[expanded_df[\"cluster\"] == i]\n",
    "        formatted_txt = fmt_txt(df_cluster)\n",
    "        summaries.append(chain.invoke({\"context\": formatted_txt}))\n",
    "\n",
    "    # Create a DataFrame to store summaries with their corresponding cluster and level\n",
    "    df_summary = pd.DataFrame(\n",
    "        {\n",
    "            \"summaries\": summaries,\n",
    "            \"level\": [level] * len(summaries),\n",
    "            \"cluster\": list(all_clusters),\n",
    "        }\n",
    "    )\n",
    "\n",
    "    return df_clusters, df_summary\n",
    "\n",
    "\n",
    "def recursive_embed_cluster_summarize(\n",
    "    texts: List[str], level: int = 1, n_levels: int = 3\n",
    ") -> Dict[int, Tuple[pd.DataFrame, pd.DataFrame]]:\n",
    "    \"\"\"\n",
    "    Recursively embeds, clusters, and summarizes texts up to a specified level or until\n",
    "    the number of unique clusters becomes 1, storing the results at each level.\n",
    "\n",
    "    Parameters:\n",
    "    - texts: List[str], texts to be processed.\n",
    "    - level: int, current recursion level (starts at 1).\n",
    "    - n_levels: int, maximum depth of recursion.\n",
    "\n",
    "    Returns:\n",
    "    - Dict[int, Tuple[pd.DataFrame, pd.DataFrame]], a dictionary where keys are the recursion\n",
    "      levels and values are tuples containing the clusters DataFrame and summaries DataFrame at that level.\n",
    "    \"\"\"\n",
    "    results = {}  # Dictionary to store results at each level\n",
    "\n",
    "    # Perform embedding, clustering, and summarization for the current level\n",
    "    df_clusters, df_summary = embed_cluster_summarize_texts(texts, level)\n",
    "\n",
    "    # Store the results of the current level\n",
    "    results[level] = (df_clusters, df_summary)\n",
    "\n",
    "    # Determine if further recursion is possible and meaningful\n",
    "    unique_clusters = df_summary[\"cluster\"].nunique()\n",
    "    if level < n_levels and unique_clusters > 1:\n",
    "        # Use summaries as the input texts for the next level of recursion\n",
    "        new_texts = df_summary[\"summaries\"].tolist()\n",
    "        next_level_results = recursive_embed_cluster_summarize(\n",
    "            new_texts, level + 1, n_levels\n",
    "        )\n",
    "\n",
    "        # Merge the results from the next level into the current results dictionary\n",
    "        results.update(next_level_results)\n",
    "\n",
    "    return results"
   ]
  },
  {
   "cell_type": "code",
   "execution_count": 10,
   "metadata": {},
   "outputs": [
    {
     "name": "stdout",
     "output_type": "stream",
     "text": [
      "--Generated 1 clusters--\n"
     ]
    }
   ],
   "source": [
    "# Build tree\n",
    "leaf_texts = docs_texts\n",
    "results = recursive_embed_cluster_summarize(leaf_texts, level=1, n_levels=3)"
   ]
  },
  {
   "cell_type": "code",
   "execution_count": 11,
   "metadata": {},
   "outputs": [],
   "source": [
    "from langchain_community.vectorstores import Chroma\n",
    "\n",
    "# Initialize all_texts with leaf_texts\n",
    "all_texts = leaf_texts.copy()\n",
    "\n",
    "# Iterate through the results to extract summaries from each level and add them to all_texts\n",
    "for level in sorted(results.keys()):\n",
    "    # Extract summaries from the current level's DataFrame\n",
    "    summaries = results[level][1][\"summaries\"].tolist()\n",
    "    # Extend all_texts with the summaries from the current level\n",
    "    all_texts.extend(summaries)\n",
    "\n",
    "# Now, use all_texts to build the vectorstore with Chroma\n",
    "vectorstore = Chroma.from_texts(texts=all_texts, embedding=embd)\n",
    "retriever = vectorstore.as_retriever()"
   ]
  },
  {
   "cell_type": "code",
   "execution_count": 12,
   "metadata": {},
   "outputs": [
    {
     "data": {
      "text/plain": [
       "'\\nThe Embedded Systems Engineering Manager plans and oversees the embedded system design, development and integration aligned with policy and standards. He/She scopes out requirement specifications, plans project life cycles and estimates resources and budgets. He communicates with stakeholders to gain buy-in and coordinates deliverables with multiple product line owners. He oversees the preparation of test procedures and performance of qualification testing as well as development of product and design documentation. He guides validation and verification of overall system design concepts and framework. He provides manufacturing and final product release support. He manages and develops junior staff. He leads a team and is responsible for managing projects and resources of the team, as well as coaching team members to build their technical capabilities. He is also an expert in microprocessor and microcontroller-based hardware components, and the interconnectivity between systems and networks. The Embedded Systems Engineering Manager manages a team of engineers and other stakeholders, he is a confident leader who can justify his decisions, put forth his ideas in a persuasive manner and engage others to gain buy-in. He should also be analytical and structured in the planning and management of embedded system design and integration projects, anticipating problems and developing solutions to them.\\n'"
      ]
     },
     "execution_count": 12,
     "metadata": {},
     "output_type": "execute_result"
    }
   ],
   "source": [
    "from langchain import hub\n",
    "from langchain_core.runnables import RunnablePassthrough\n",
    "\n",
    "# Prompt\n",
    "prompt = hub.pull(\"rlm/rag-prompt\")\n",
    "\n",
    "\n",
    "# Post-processing\n",
    "def format_docs(docs):\n",
    "    return \"\\n\\n\".join(doc.page_content for doc in docs)\n",
    "\n",
    "\n",
    "# Chain\n",
    "rag_chain = (\n",
    "    {\"context\": retriever | format_docs, \"question\": RunnablePassthrough()}\n",
    "    | prompt\n",
    "    | model\n",
    "    | StrOutputParser()\n",
    ")\n",
    "\n",
    "# Question\n",
    "# rag_chain.invoke(\"List all the skills, knowledge and abilities required by a Embedded Systems Engineering Manager.\")\n",
    "\n",
    "\"\"\"\n",
    "The Embedded Systems Engineering Manager plans and oversees the embedded system design, development and integration aligned with policy and standards. He/She scopes out requirement specifications, plans project life cycles and estimates resources and budgets. He communicates with stakeholders to gain buy-in and coordinates deliverables with multiple product line owners. He oversees the preparation of test procedures and performance of qualification testing as well as development of product and design documentation. He guides validation and verification of overall system design concepts and framework. He provides manufacturing and final product release support. He manages and develops junior staff. He leads a team and is responsible for managing projects and resources of the team, as well as coaching team members to build their technical capabilities. He is also an expert in microprocessor and microcontroller-based hardware components, and the interconnectivity between systems and networks. The Embedded Systems Engineering Manager manages a team of engineers and other stakeholders, he is a confident leader who can justify his decisions, put forth his ideas in a persuasive manner and engage others to gain buy-in. He should also be analytical and structured in the planning and management of embedded system design and integration projects, anticipating problems and developing solutions to them.\n",
    "\"\"\""
   ]
  },
  {
   "cell_type": "markdown",
   "metadata": {},
   "source": [
    "'\\nThe Embedded Systems Engineering Manager plans and oversees the embedded system design, development and integration aligned with policy and standards. He/She scopes out requirement specifications, plans project life cycles and estimates resources and budgets. He communicates with stakeholders to gain buy-in and coordinates deliverables with multiple product line owners. He oversees the preparation of test procedures and performance of qualification testing as well as development of product and design documentation. He guides validation and verification of overall system design concepts and framework. He provides manufacturing and final product release support. He manages and develops junior staff. He leads a team and is responsible for managing projects and resources of the team, as well as coaching team members to build their technical capabilities. He is also an expert in microprocessor and microcontroller-based hardware components, and the interconnectivity between systems and networks. The Embedded Systems Engineering Manager manages a team of engineers and other stakeholders, he is a confident leader who can justify his decisions, put forth his ideas in a persuasive manner and engage others to gain buy-in. He should also be analytical and structured in the planning and management of embedded system design and integration projects, anticipating problems and developing solutions to them.\\n'"
   ]
  },
  {
   "cell_type": "code",
   "execution_count": 26,
   "metadata": {},
   "outputs": [
    {
     "name": "stderr",
     "output_type": "stream",
     "text": [
      "Number of requested results 4 is greater than number of elements in index 2, updating n_results = 2\n"
     ]
    },
    {
     "data": {
      "text/plain": [
       "'Based on the information provided, the key skills, knowledge and abilities required by an Embedded Systems Engineering Manager can be categorized as follows:\\n\\nSkills:\\n- Project management and planning\\n- Team leadership and development\\n- Communication and stakeholder management\\n- Problem-solving and decision-making\\n\\nKnowledge:\\n- Embedded system design, development and integration\\n- Microprocessor and microcontroller-based hardware components\\n- Interconnectivity between systems and networks\\n- Programming languages required by the organization\\n- Policy and standards related to embedded systems\\n\\nAbilities:\\n- Justify decisions and persuade others\\n- Engage and gain buy-in from stakeholders\\n- Analytical and structured thinking for planning and managing projects\\n- Anticipate problems and develop solutions'"
      ]
     },
     "execution_count": 26,
     "metadata": {},
     "output_type": "execute_result"
    }
   ],
   "source": [
    "rag_chain.invoke(\"List all the skills, knowledge and abilities required by a Embedded Systems Engineering Manager. List them as a list categorized in Skills, Knowledge and Abilities.\")\n"
   ]
  },
  {
   "cell_type": "markdown",
   "metadata": {},
   "source": [
    "'Based on the information provided, the key skills, knowledge and abilities required by an Embedded Systems Engineering Manager can be categorized as follows:\\n\\nSkills:\\n- Project management and planning\\n- Team leadership and development\\n- Communication and stakeholder management\\n- Problem-solving and decision-making\\n\\nKnowledge:\\n- Embedded system design, development and integration\\n- Microprocessor and microcontroller-based hardware components\\n- Interconnectivity between systems and networks\\n- Programming languages required by the organization\\n- Policy and standards related to embedded systems\\n\\nAbilities:\\n- Justify decisions and persuade others\\n- Engage and gain buy-in from stakeholders\\n- Analytical and structured thinking for planning and managing projects\\n- Anticipate problems and develop solutions'"
   ]
  },
  {
   "cell_type": "code",
   "execution_count": 14,
   "metadata": {},
   "outputs": [
    {
     "name": "stderr",
     "output_type": "stream",
     "text": [
      "Number of requested results 4 is greater than number of elements in index 2, updating n_results = 2\n"
     ]
    }
   ],
   "source": [
    "jsonres = rag_chain.invoke(\"List all the skills, knowledge and abilities required by a Embedded Systems Engineering Manager. Print it in JSON format with groups of Skills, Knowledge and Abilities.\")\n"
   ]
  },
  {
   "cell_type": "code",
   "execution_count": 15,
   "metadata": {},
   "outputs": [
    {
     "data": {
      "text/plain": [
       "'```json\\n{\\n  \"Skills\": [\\n    \"Security systems monitoring\",\\n    \"Cybersecurity standards familiarity\",\\n    \"Incident analysis and resolution\",\\n    \"Security advisories preparation\",\\n    \"On-call availability\",\\n    \"Cybersecurity tools and techniques proficiency\",\\n    \"Clear communication\",\\n    \"Effective coordination\",\\n    \"Security strategy development\",\\n    \"Corporate information protection\",\\n    \"IT security architecture design\",\\n    \"Cyber Risk Maturity Model improvement\",\\n    \"Regulatory compliance advising\",\\n    \"Leadership and decisiveness\",\\n    \"Cyber risk assessment\",\\n    \"Risk mitigation management\",\\n    \"Cybersecurity policy implementation\",\\n    \"Analytical and systematic risk identification\",\\n    \"Team player with strong communication\",\\n    \"Forensics investigation strategy development\",\\n    \"Threat data analysis\",\\n    \"Security incident solutions development\",\\n    \"Incident response strategy development\",\\n    \"Cyber-incident report presentation\",\\n    \"Complex analysis for intrusion investigation\",\\n    \"Secure system architecture design\",\\n    \"Enterprise system integration\",\\n    \"Security log data analysis\",\\n    \"Security operations monitoring and maintenance\",\\n    \"Resilience enhancement of security operations\",\\n    \"Secure system architectures implementation\",\\n    \"Threat analysis strategy planning\",\\n    \"Vulnerability and penetration testing\",\\n    \"AI/ML models optimization\",\\n    \"AI research and development\",\\n    \"BI strategy management\",\\n    \"Data and information management\",\\n    \"Data and AI strategy establishment\",\\n    \"Data analytics and engineering\",\\n    \"Infrastructure deployment and maintenance\",\\n    \"Network infrastructure support\",\\n    \"Wireless network optimization\",\\n    \"Network operations automation\",\\n    \"IT infrastructure strategy development\",\\n    \"Infrastructure architecture translation\",\\n    \"Infrastructure performance optimization\",\\n    \"Core network management\",\\n    \"Wireless communication maintenance\",\\n    \"SysOps configuration and efficiency optimization\",\\n    \"Information strategy development\",\\n    \"Software application operation and support\",\\n    \"Data centre systems maintenance\",\\n    \"Database technologies deployment\",\\n    \"Infrastructure operations and maintenance\",\\n    \"Operations centre support\",\\n    \"Systems administration\",\\n    \"Product analysis and market research\",\\n    \"Product design and development\",\\n    \"Product management and strategy\",\\n    \"Back end and front end development\",\\n    \"Full stack development\",\\n    \"Quality and risk management in product development\",\\n    \"Product security engineering\",\\n    \"Quality assurance in software development\",\\n    \"Software engineering management\",\\n    \"User interface and experience design\"\\n  ],\\n  \"Knowledge\": [\\n    \"Cybersecurity protocols and frameworks\",\\n    \"Information security governance\",\\n    \"Risk assessment methodologies\",\\n    \"Forensics investigation techniques\",\\n    \"Incident management procedures\",\\n    \"System architecture principles\",\\n    \"Security operations best practices\",\\n    \"Threat intelligence gathering\",\\n    \"Vulnerability assessment methods\",\\n    \"AI/ML algorithms and data science\",\\n    \"Business intelligence tools and analytics\",\\n    \"Data governance and AI ethics\",\\n    \"Infrastructure technologies and cloud services\",\\n    \"Network standards and protocols\",\\n    \"Wireless networking technologies\",\\n    \"Virtualisation and orchestration technologies\",\\n    \"Enterprise architecture methodologies\",\\n    \"Software development lifecycle\",\\n    \"Design thinking and user-centric methodologies\",\\n    \"Product lifecycle management\",\\n    \"Sales and marketing strategies\",\\n    \"Quality control standards\",\\n    \"Regulatory compliance and data protection laws\"\\n  ],\\n  \"Abilities\": [\\n    \"Analyse security incidents critically\",\\n    \"Strategize for information security\",\\n    \"Advise on cybersecurity compliance\",\\n    \"Anticipate and mitigate cyber risks\",\\n    \"Lead and develop cybersecurity teams\",\\n    \"Classify threats and recommend actions\",\\n    \"Investigate and determine root causes of attacks\",\\n    \"Develop cybersecurity solutions\",\\n    \"Articulate and resolve complex issues\",\\n    \"Design optimal secure system architectures\",\\n    \"Perform real-time security analyses\",\\n    \"Oversee security operations and incident management\",\\n    \"Design and implement secure architectures\",\\n    \"Pre-empt potential cyber threats\",\\n    \"Conduct penetration tests innovatively\",\\n    \"Support AI/ML model production\",\\n    \"Conduct AI research for business use cases\",\\n    \"Manage BI operations strategically\",\\n    \"Translate business needs into data solutions\",\\n    \"Architect data systems for optimal access\",\\n    \"Implement and maintain data flow channels\",\\n    \"Develop advanced data analytic techniques\",\\n    \"Lead data science and AI initiatives\",\\n    \"Optimise AI/ML models for scalability\",\\n    \"Design and oversee data processing systems\",\\n    \"Assist with infrastructure configuration\",\\n    \"Support network deployment and operations\",\\n    \"Optimise wireless networks and systems\",\\n    \"Automate network operations\",\\n    \"Develop IT infrastructure strategies\",\\n    \"Translate infrastructure requirements\",\\n    \"Optimise infrastructure capacity and performance\",\\n    \"Manage complex core networks\",\\n    \"Maintain quality of wireless communications\",\\n    \"Configure systems for reliability\",\\n    \"Provide strategic IT directions\",\\n    \"Operate and support software applications\",\\n    \"Maintain data centre operations\",\\n    \"Deploy database technologies\",\\n    \"Perform infrastructure maintenance\",\\n    \"Monitor and support operations centres\",\\n    \"Administer systems\",\\n    \"Analyse market for product opportunities\",\\n    \"Design products for user needs\",\\n    \"Manage product development and launch\",\\n    \"Develop server-side systems\",\\n    \"Create intuitive user interfaces\",\\n    \"Develop full stack solutions\",\\n    \"Manage product quality and risks\",\\n    \"Engineer product security\",\\n    \"Assure software quality\",\\n    \"Manage software engineering processes\",\\n    \"Design user interfaces and experiences\"\\n  ]\\n}\\n```'"
      ]
     },
     "execution_count": 15,
     "metadata": {},
     "output_type": "execute_result"
    }
   ],
   "source": [
    "jsonres"
   ]
  },
  {
   "cell_type": "markdown",
   "metadata": {},
   "source": [
    "'```json\\n{\\n  \"Skills\": [\\n    \"Security systems monitoring\",\\n    \"Cybersecurity standards familiarity\",\\n    \"Incident analysis and resolution\",\\n    \"Security advisories preparation\",\\n    \"On-call availability\",\\n    \"Cybersecurity tools and techniques proficiency\",\\n    \"Clear communication\",\\n    \"Effective coordination\",\\n    \"Security strategy development\",\\n    \"Corporate information protection\",\\n    \"IT security architecture design\",\\n    \"Cyber Risk Maturity Model improvement\",\\n    \"Regulatory compliance advising\",\\n    \"Leadership and decisiveness\",\\n    \"Cyber risk assessment\",\\n    \"Risk mitigation management\",\\n    \"Cybersecurity policy implementation\",\\n    \"Analytical and systematic risk identification\",\\n    \"Team player with strong communication\",\\n    \"Forensics investigation strategy development\",\\n    \"Threat data analysis\",\\n    \"Security incident solutions development\",\\n    \"Incident response strategy development\",\\n    \"Cyber-incident report presentation\",\\n    \"Complex analysis for intrusion investigation\",\\n    \"Secure system architecture design\",\\n    \"Enterprise system integration\",\\n    \"Security log data analysis\",\\n    \"Security operations monitoring and maintenance\",\\n    \"Resilience enhancement of security operations\",\\n    \"Secure system architectures implementation\",\\n    \"Threat analysis strategy planning\",\\n    \"Vulnerability and penetration testing\",\\n    \"AI/ML models optimization\",\\n    \"AI research and development\",\\n    \"BI strategy management\",\\n    \"Data and information management\",\\n    \"Data and AI strategy establishment\",\\n    \"Data analytics and engineering\",\\n    \"Infrastructure deployment and maintenance\",\\n    \"Network infrastructure support\",\\n    \"Wireless network optimization\",\\n    \"Network operations automation\",\\n    \"IT infrastructure strategy development\",\\n    \"Infrastructure architecture translation\",\\n    \"Infrastructure performance optimization\",\\n    \"Core network management\",\\n    \"Wireless communication maintenance\",\\n    \"SysOps configuration and efficiency optimization\",\\n    \"Information strategy development\",\\n    \"Software application operation and support\",\\n    \"Data centre systems maintenance\",\\n    \"Database technologies deployment\",\\n    \"Infrastructure operations and maintenance\",\\n    \"Operations centre support\",\\n    \"Systems administration\",\\n    \"Product analysis and market research\",\\n    \"Product design and development\",\\n    \"Product management and strategy\",\\n    \"Back end and front end development\",\\n    \"Full stack development\",\\n    \"Quality and risk management in product development\",\\n    \"Product security engineering\",\\n    \"Quality assurance in software development\",\\n    \"Software engineering management\",\\n    \"User interface and experience design\"\\n  ],\\n  \"Knowledge\": [\\n    \"Cybersecurity protocols and frameworks\",\\n    \"Information security governance\",\\n    \"Risk assessment methodologies\",\\n    \"Forensics investigation techniques\",\\n    \"Incident management procedures\",\\n    \"System architecture principles\",\\n    \"Security operations best practices\",\\n    \"Threat intelligence gathering\",\\n    \"Vulnerability assessment methods\",\\n    \"AI/ML algorithms and data science\",\\n    \"Business intelligence tools and analytics\",\\n    \"Data governance and AI ethics\",\\n    \"Infrastructure technologies and cloud services\",\\n    \"Network standards and protocols\",\\n    \"Wireless networking technologies\",\\n    \"Virtualisation and orchestration technologies\",\\n    \"Enterprise architecture methodologies\",\\n    \"Software development lifecycle\",\\n    \"Design thinking and user-centric methodologies\",\\n    \"Product lifecycle management\",\\n    \"Sales and marketing strategies\",\\n    \"Quality control standards\",\\n    \"Regulatory compliance and data protection laws\"\\n  ],\\n  \"Abilities\": [\\n    \"Analyse security incidents critically\",\\n    \"Strategize for information security\",\\n    \"Advise on cybersecurity compliance\",\\n    \"Anticipate and mitigate cyber risks\",\\n    \"Lead and develop cybersecurity teams\",\\n    \"Classify threats and recommend actions\",\\n    \"Investigate and determine root causes of attacks\",\\n    \"Develop cybersecurity solutions\",\\n    \"Articulate and resolve complex issues\",\\n    \"Design optimal secure system architectures\",\\n    \"Perform real-time security analyses\",\\n    \"Oversee security operations and incident management\",\\n    \"Design and implement secure architectures\",\\n    \"Pre-empt potential cyber threats\",\\n    \"Conduct penetration tests innovatively\",\\n    \"Support AI/ML model production\",\\n    \"Conduct AI research for business use cases\",\\n    \"Manage BI operations strategically\",\\n    \"Translate business needs into data solutions\",\\n    \"Architect data systems for optimal access\",\\n    \"Implement and maintain data flow channels\",\\n    \"Develop advanced data analytic techniques\",\\n    \"Lead data science and AI initiatives\",\\n    \"Optimise AI/ML models for scalability\",\\n    \"Design and oversee data processing systems\",\\n    \"Assist with infrastructure configuration\",\\n    \"Support network deployment and operations\",\\n    \"Optimise wireless networks and systems\",\\n    \"Automate network operations\",\\n    \"Develop IT infrastructure strategies\",\\n    \"Translate infrastructure requirements\",\\n    \"Optimise infrastructure capacity and performance\",\\n    \"Manage complex core networks\",\\n    \"Maintain quality of wireless communications\",\\n    \"Configure systems for reliability\",\\n    \"Provide strategic IT directions\",\\n    \"Operate and support software applications\",\\n    \"Maintain data centre operations\",\\n    \"Deploy database technologies\",\\n    \"Perform infrastructure maintenance\",\\n    \"Monitor and support operations centres\",\\n    \"Administer systems\",\\n    \"Analyse market for product opportunities\",\\n    \"Design products for user needs\",\\n    \"Manage product development and launch\",\\n    \"Develop server-side systems\",\\n    \"Create intuitive user interfaces\",\\n    \"Develop full stack solutions\",\\n    \"Manage product quality and risks\",\\n    \"Engineer product security\",\\n    \"Assure software quality\",\\n    \"Manage software engineering processes\",\\n    \"Design user interfaces and experiences\"\\n  ]\\n}\\n```'\n"
   ]
  },
  {
   "cell_type": "code",
   "execution_count": 21,
   "metadata": {},
   "outputs": [
    {
     "name": "stderr",
     "output_type": "stream",
     "text": [
      "Number of requested results 4 is greater than number of elements in index 2, updating n_results = 2\n"
     ]
    }
   ],
   "source": [
    "jsonres2 = rag_chain.invoke(\"List the most important skills, knowledge and abilities required by a Embedded Systems Engineering Manager. Print it as a Python JSON string format without special characters and with groups of Skills, Knowledge and Abilities. Get a maximum of 10 elements per group\")\n"
   ]
  },
  {
   "cell_type": "code",
   "execution_count": 28,
   "metadata": {},
   "outputs": [
    {
     "data": {
      "text/plain": [
       "'```json\\n{\\n  \"Skills\": [\\n    \"Cybersecurity monitoring and analysis\",\\n    \"Incident response and management\",\\n    \"Security systems and applications maintenance\",\\n    \"Risk assessment and mitigation\",\\n    \"Forensics investigation and analysis\",\\n    \"Communication and coordination\",\\n    \"Strategic planning and resource management\",\\n    \"Sales and client relationship management\",\\n    \"Data analysis and business intelligence\",\\n    \"Software and systems development\"\\n  ],\\n  \"Knowledge\": [\\n    \"Cybersecurity standards, protocols, and frameworks\",\\n    \"Data protection laws and compliance requirements\",\\n    \"Artificial intelligence and machine learning concepts\",\\n    \"Business and market analysis techniques\",\\n    \"Product development lifecycle\",\\n    \"Quality assurance standards and testing methodologies\",\\n    \"Enterprise architecture methodologies and frameworks\",\\n    \"Programming languages and software development tools\",\\n    \"Sales strategies and client management practices\",\\n    \"IT audit and risk management principles\"\\n  ],\\n  \"Abilities\": [\\n    \"Analytical and critical thinking\",\\n    \"Problem-solving and decision-making\",\\n    \"Leadership and team management\",\\n    \"Effective communication and negotiation\",\\n    \"Innovative and creative thinking\",\\n    \"Attention to detail and meticulousness\",\\n    \"Adaptability and flexibility\",\\n    \"Client-focused approach\",\\n    \"Strategic vision and foresight\",\\n    \"Technical proficiency and expertise\"\\n  ]\\n}\\n```'"
      ]
     },
     "execution_count": 28,
     "metadata": {},
     "output_type": "execute_result"
    }
   ],
   "source": [
    "jsonres2"
   ]
  },
  {
   "cell_type": "markdown",
   "metadata": {},
   "source": [
    "'```json\\n{\\n  \"Skills\": [\\n    \"Cybersecurity monitoring and analysis\",\\n    \"Incident response and management\",\\n    \"Security systems and applications maintenance\",\\n    \"Risk assessment and mitigation\",\\n    \"Forensics investigation and analysis\",\\n    \"Communication and coordination\",\\n    \"Strategic planning and resource management\",\\n    \"Sales and client relationship management\",\\n    \"Data analysis and business intelligence\",\\n    \"Software and systems development\"\\n  ],\\n  \"Knowledge\": [\\n    \"Cybersecurity standards, protocols, and frameworks\",\\n    \"Data protection laws and compliance requirements\",\\n    \"Artificial intelligence and machine learning concepts\",\\n    \"Business and market analysis techniques\",\\n    \"Product development lifecycle\",\\n    \"Quality assurance standards and testing methodologies\",\\n    \"Enterprise architecture methodologies and frameworks\",\\n    \"Programming languages and software development tools\",\\n    \"Sales strategies and client management practices\",\\n    \"IT audit and risk management principles\"\\n  ],\\n  \"Abilities\": [\\n    \"Analytical and critical thinking\",\\n    \"Problem-solving and decision-making\",\\n    \"Leadership and team management\",\\n    \"Effective communication and negotiation\",\\n    \"Innovative and creative thinking\",\\n    \"Attention to detail and meticulousness\",\\n    \"Adaptability and flexibility\",\\n    \"Client-focused approach\",\\n    \"Strategic vision and foresight\",\\n    \"Technical proficiency and expertise\"\\n  ]\\n}\\n```'"
   ]
  },
  {
   "cell_type": "code",
   "execution_count": 29,
   "metadata": {},
   "outputs": [],
   "source": [
    "import json\n",
    "\n",
    "def parse_and_save_json(json_string, output_filename):\n",
    "    try:\n",
    "        # Find the index of the first '{' character in the string\n",
    "        start_index = json_string.find('{')\n",
    "\n",
    "        # Find the index of the last '}' character in the string\n",
    "        end_index = json_string.rfind('}')\n",
    "\n",
    "        # Extract the JSON content from the string\n",
    "        clean_json_string = json_string[start_index:end_index+1]\n",
    "\n",
    "        # Load the JSON content into a Python dictionary\n",
    "        json_data = json.loads(clean_json_string)\n",
    "\n",
    "        # Save the JSON data to a file\n",
    "        with open(output_filename, 'w') as json_file:\n",
    "            json.dump(json_data, json_file, indent=2)\n",
    "\n",
    "        print(f\"Parsed JSON data has been successfully saved to {output_filename}\")\n",
    "\n",
    "    except json.JSONDecodeError as e:\n",
    "        print(f\"Error decoding JSON: {e}\")"
   ]
  },
  {
   "cell_type": "code",
   "execution_count": 30,
   "metadata": {},
   "outputs": [
    {
     "name": "stdout",
     "output_type": "stream",
     "text": [
      "Parsed JSON data has been successfully saved to EmbeddedSystemsEngineeringManagerKSA.json\n"
     ]
    }
   ],
   "source": [
    "file_name = \"EmbeddedSystemsEngineeringManagerKSA.json\"\n",
    "parse_and_save_json(jsonres2, file_name)"
   ]
  }
 ],
 "metadata": {
  "kernelspec": {
   "display_name": "nlp380",
   "language": "python",
   "name": "python3"
  },
  "language_info": {
   "codemirror_mode": {
    "name": "ipython",
    "version": 3
   },
   "file_extension": ".py",
   "mimetype": "text/x-python",
   "name": "python",
   "nbconvert_exporter": "python",
   "pygments_lexer": "ipython3",
   "version": "3.8.18"
  }
 },
 "nbformat": 4,
 "nbformat_minor": 2
}
